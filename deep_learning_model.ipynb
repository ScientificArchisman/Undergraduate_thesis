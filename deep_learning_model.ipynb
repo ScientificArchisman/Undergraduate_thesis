{
 "cells": [
  {
   "cell_type": "code",
   "execution_count": 3,
   "metadata": {},
   "outputs": [
    {
     "name": "stdout",
     "output_type": "stream",
     "text": [
      "torch version:  1.13.1\n",
      "pandas version:  1.5.2\n",
      "numpy version:  1.23.4\n",
      "matplotlib version:  3.6.2\n",
      "seaborn version:  0.12.1\n"
     ]
    }
   ],
   "source": [
    "import torch\n",
    "import pandas as pd\n",
    "import numpy as np\n",
    "import matplotlib\n",
    "import matplotlib.pyplot as plt\n",
    "import seaborn as sns\n",
    "plt.style.use([\"science\", \"notebook\", \"grid\"])\n",
    "\n",
    "# print versions of modules\n",
    "print(\"torch version: \", torch.__version__)\n",
    "print(\"pandas version: \", pd.__version__)\n",
    "print(\"numpy version: \", np.__version__)\n",
    "print(\"matplotlib version: \", matplotlib.__version__)\n",
    "print(\"seaborn version: \", sns.__version__)"
   ]
  },
  {
   "cell_type": "code",
   "execution_count": 4,
   "metadata": {},
   "outputs": [
    {
     "name": "stdout",
     "output_type": "stream",
     "text": [
      "Metal performance shaders (MPS) are available! Let the show begin\n"
     ]
    }
   ],
   "source": [
    "if not torch.backends.mps.is_available():\n",
    "    if not torch.backends.mps.is_built():\n",
    "        print(\"MPS not available because the current PyTorch install was not \"\n",
    "              \"built with MPS enabled.\")\n",
    "    else:\n",
    "        print(\"MPS not available because the current MacOS version is not 12.3+ \"\n",
    "              \"and/or you do not have an MPS-enabled device on this machine.\")\n",
    "\n",
    "else:\n",
    "    print(\"Metal performance shaders (MPS) are available! Let the show begin\")\n",
    "    mps_device = torch.device(\"mps\")"
   ]
  },
  {
   "attachments": {},
   "cell_type": "markdown",
   "metadata": {},
   "source": [
    "Read data from `csv` format and convert into `numpy ndarrays` after dropping the `condition` column"
   ]
  },
  {
   "cell_type": "code",
   "execution_count": 5,
   "metadata": {},
   "outputs": [],
   "source": [
    "test_set = pd.read_csv(\"/Users/archismanchakraborti/Desktop/python files/Dissertation/filtered_data_test.csv\")\\\n",
    "                                                .drop(columns = [\"Condition\"]).values\n",
    "train_set = pd.read_csv(\"/Users/archismanchakraborti/Desktop/python files/Dissertation/filtered_data.csv\")\\\n",
    "                                            .drop(columns = [\"Condition\"]).values"
   ]
  },
  {
   "attachments": {},
   "cell_type": "markdown",
   "metadata": {},
   "source": [
    "Converting arrays into `Torch Tensors`"
   ]
  },
  {
   "attachments": {},
   "cell_type": "markdown",
   "metadata": {},
   "source": [
    "## Create Dataset"
   ]
  },
  {
   "cell_type": "code",
   "execution_count": 6,
   "metadata": {},
   "outputs": [],
   "source": [
    "from torch.utils.data import Dataset"
   ]
  },
  {
   "cell_type": "code",
   "execution_count": 7,
   "metadata": {},
   "outputs": [],
   "source": [
    "class ECG_data(Dataset):\n",
    "    def __init__(self, link):\n",
    "        data = pd.read_csv(link).drop(columns = [\"Condition\"]).values\n",
    "        self.x = torch.from_numpy(data[:, :-1]).type(torch.float32).to(mps_device) # Features\n",
    "        self.y = torch.from_numpy(data[:, [-1]]).type(torch.float32).to(mps_device) # labels\n",
    "        self.n_samples = data.shape[0]\n",
    "\n",
    "    def __getitem__(self, index):\n",
    "        return self.x[index], self.y[index]\n",
    "\n",
    "    def __len__(self) -> int:\n",
    "        return self.n_samples        "
   ]
  },
  {
   "cell_type": "code",
   "execution_count": 8,
   "metadata": {},
   "outputs": [],
   "source": [
    "train_link = \"filtered_data.csv\"\n",
    "test_link = \"filtered_data_test.csv\"\n",
    "\n",
    "train_set = ECG_data(link=train_link)\n",
    "test_set = ECG_data(link=test_link)"
   ]
  },
  {
   "attachments": {},
   "cell_type": "markdown",
   "metadata": {},
   "source": [
    "## Print some relevant information"
   ]
  },
  {
   "cell_type": "code",
   "execution_count": 9,
   "metadata": {},
   "outputs": [
    {
     "name": "stdout",
     "output_type": "stream",
     "text": [
      "Length of training set = 87554\n",
      "Length of testing set = 21892\n",
      "No of classes to predict = 5\n"
     ]
    }
   ],
   "source": [
    "print(f\"Length of training set = {len(train_set)}\")\n",
    "print(f\"Length of testing set = {len(test_set)}\")\n",
    "print(f\"No of classes to predict = 5\")"
   ]
  },
  {
   "attachments": {},
   "cell_type": "markdown",
   "metadata": {},
   "source": [
    "## Create `Dataloader objects`"
   ]
  },
  {
   "cell_type": "code",
   "execution_count": 10,
   "metadata": {},
   "outputs": [],
   "source": [
    "from torch.utils.data import DataLoader"
   ]
  },
  {
   "cell_type": "code",
   "execution_count": 11,
   "metadata": {},
   "outputs": [],
   "source": [
    "train_dl = DataLoader(dataset = train_set, batch_size = 128, shuffle = True, num_workers = 0)\n",
    "train_dl = DataLoader(dataset = train_set, batch_size = 128, shuffle = True, num_workers = 0)\n",
    "\n",
    "# Iterator for dataloader\n",
    "dataiter = iter(train_dl)\n",
    "data = next(dataiter)"
   ]
  },
  {
   "cell_type": "code",
   "execution_count": 84,
   "metadata": {},
   "outputs": [
    {
     "data": {
      "text/plain": [
       "device(type='mps', index=0)"
      ]
     },
     "execution_count": 84,
     "metadata": {},
     "output_type": "execute_result"
    }
   ],
   "source": []
  },
  {
   "cell_type": "code",
   "execution_count": null,
   "metadata": {},
   "outputs": [],
   "source": []
  }
 ],
 "metadata": {
  "kernelspec": {
   "display_name": "pytorch",
   "language": "python",
   "name": "python3"
  },
  "language_info": {
   "codemirror_mode": {
    "name": "ipython",
    "version": 3
   },
   "file_extension": ".py",
   "mimetype": "text/x-python",
   "name": "python",
   "nbconvert_exporter": "python",
   "pygments_lexer": "ipython3",
   "version": "3.9.15"
  },
  "orig_nbformat": 4,
  "vscode": {
   "interpreter": {
    "hash": "48f84e2b53037a0c61823970a0f5158ed4ef86a7b7f85e9a6e6386001272f068"
   }
  }
 },
 "nbformat": 4,
 "nbformat_minor": 2
}
